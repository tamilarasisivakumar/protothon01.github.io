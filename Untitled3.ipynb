{
 "cells": [
  {
   "cell_type": "code",
   "execution_count": null,
   "metadata": {
    "scrolled": true
   },
   "outputs": [],
   "source": [
    "import math\n",
    "a=[]\n",
    "sq=[]\n",
    "a=input(\"enter the number :\").split(',')\n",
    "a=[float(i) for i in a]\n",
    "print(a)\n",
    "n=len(a)\n",
    "print(n)\n",
    "\n",
    "sq=[i*i for i in a]\n",
    "print(sq)\n",
    "sum=0\n",
    "for i in sq:\n",
    "    sum+=i\n",
    "print(sum)\n",
    "mean=sum/n\n",
    "print(mean)\n",
    "print(math.sqrt(mean))"
   ]
  },
  {
   "cell_type": "code",
   "execution_count": 9,
   "metadata": {},
   "outputs": [
    {
     "name": "stdout",
     "output_type": "stream",
     "text": [
      "enter the sentence :i like chocolates...\n",
      "I LIKE CHOCOLATES...\n",
      "i like chocolates...\n",
      "I Like Chocolates...\n",
      "I like chocolates...\n"
     ]
    }
   ],
   "source": [
    "a=input(\"enter the sentence :\")\n",
    "b=a.upper()\n",
    "print(b)\n",
    "c=a.lower()\n",
    "print(c)\n",
    "d=a.title()\n",
    "print(d)\n",
    "e=a.capitalize()\n",
    "print(e)"
   ]
  },
  {
   "cell_type": "code",
   "execution_count": null,
   "metadata": {},
   "outputs": [],
   "source": []
  }
 ],
 "metadata": {
  "kernelspec": {
   "display_name": "Python 3",
   "language": "python",
   "name": "python3"
  },
  "language_info": {
   "codemirror_mode": {
    "name": "ipython",
    "version": 3
   },
   "file_extension": ".py",
   "mimetype": "text/x-python",
   "name": "python",
   "nbconvert_exporter": "python",
   "pygments_lexer": "ipython3",
   "version": "3.7.1"
  }
 },
 "nbformat": 4,
 "nbformat_minor": 2
}
