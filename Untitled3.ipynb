{
 "cells": [
  {
   "cell_type": "code",
   "execution_count": null,
   "metadata": {
    "scrolled": true
   },
   "outputs": [],
   "source": [
    "import math\n",
    "a=[]\n",
    "sq=[]\n",
    "a=input(\"enter the number :\").split(',')\n",
    "a=[float(i) for i in a]\n",
    "print(a)\n",
    "n=len(a)\n",
    "print(n)\n",
    "\n",
    "sq=[i*i for i in a]\n",
    "print(sq)\n",
    "sum=0\n",
    "for i in sq:\n",
    "    sum+=i\n",
    "print(sum)\n",
    "mean=sum/n\n",
    "print(mean)\n",
    "print(math.sqrt(mean))"
   ]
  },
  {
   "cell_type": "code",
   "execution_count": null,
   "metadata": {},
   "outputs": [],
   "source": [
    "a=input(\"enter the sentence :\")\n",
    "b=a.upper()\n",
    "print(b)\n",
    "c=a.lower()\n",
    "print(c)\n",
    "d=a.title()\n",
    "print(d)\n",
    "e=a.capitalize()\n",
    "print(e)"
   ]
  },
  {
   "cell_type": "code",
   "execution_count": null,
   "metadata": {},
   "outputs": [],
   "source": [
    "import time\n",
    "while True:\n",
    "    print(\"tamil\")\n",
    "    time.sleep(10)"
   ]
  },
  {
   "cell_type": "code",
   "execution_count": null,
   "metadata": {},
   "outputs": [],
   "source": [
    "a=[]\n",
    "n=int(input(\"enter the value :\"))\n",
    "for i in range (n):\n",
    "    for j in range(0,i+1):\n",
    "        if(j==0):\n",
    "            a.insert(j,1)\n",
    "            print(a)\n",
    "a.pop(0)\n",
    "print(a)"
   ]
  },
  {
   "cell_type": "code",
   "execution_count": null,
   "metadata": {},
   "outputs": [],
   "source": [
    "n=int(input(\"enter the number of rows\"))\n",
    "i=0\n",
    "j=0\n",
    "a=[] \n",
    "for i in range (n):\n",
    "        for j in range (i+1):\n",
    "            if (j==0) :\n",
    "                a.insert(j,1) \n",
    "            \n",
    "print(a)\n",
    "\n"
   ]
  },
  {
   "cell_type": "code",
   "execution_count": 10,
   "metadata": {},
   "outputs": [
    {
     "name": "stdout",
     "output_type": "stream",
     "text": [
      "no of rows : 5\n",
      "             1\n",
      "          1     1\n",
      "        1    2     1\n",
      "      1    3    3     1\n",
      "    1    4    6    4     1\n"
     ]
    }
   ],
   "source": [
    "a=[]\n",
    "b=[]\n",
    "c=[]\n",
    "n=int(input(\"no of rows : \"))\n",
    "a.append(1)\n",
    "print('  '*(n+1),end=' ')\n",
    "print(1)\n",
    "for i in range (1,n):\n",
    "    a.append(0)\n",
    "    b= a.copy()\n",
    "    b.reverse()     \n",
    "    for j in range (0,i+1): \n",
    "        d=a[j]+b[j]\n",
    "        c.append(d)\n",
    "    print('  '*(n-i-1),end=' ')\n",
    "    for r in range (0,i+1):\n",
    "        if(r==i):\n",
    "            print(\"   \",c[r])\n",
    "        else:\n",
    "            print(\"  \",c[r],end=' ')\n",
    "    a= c.copy()\n",
    "    c.clear()"
   ]
  },
  {
   "cell_type": "code",
   "execution_count": null,
   "metadata": {},
   "outputs": [],
   "source": []
  }
 ],
 "metadata": {
  "kernelspec": {
   "display_name": "Python 3",
   "language": "python",
   "name": "python3"
  },
  "language_info": {
   "codemirror_mode": {
    "name": "ipython",
    "version": 3
   },
   "file_extension": ".py",
   "mimetype": "text/x-python",
   "name": "python",
   "nbconvert_exporter": "python",
   "pygments_lexer": "ipython3",
   "version": "3.7.1"
  }
 },
 "nbformat": 4,
 "nbformat_minor": 2
}
